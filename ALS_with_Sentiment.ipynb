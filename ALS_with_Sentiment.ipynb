{
 "cells": [
  {
   "cell_type": "code",
   "execution_count": 1,
   "metadata": {},
   "outputs": [],
   "source": [
    "import findspark\n",
    "findspark.init()\n",
    "\n",
    "import findspark\n",
    "findspark.init()\n",
    "import pyspark\n",
    "import random\n",
    "from pyspark.mllib.recommendation import ALS, MatrixFactorizationModel, Rating\n",
    "from pyspark.sql import SparkSession, SQLContext\n",
    "from pyspark.sql.functions import col\n",
    "import pyspark.sql.functions\n",
    "from pyspark.sql.functions import sum"
   ]
  },
  {
   "cell_type": "code",
   "execution_count": 2,
   "metadata": {},
   "outputs": [],
   "source": [
    "spark = SparkSession.builder.master(\"local\").appName(\"Yelp\").getOrCreate()"
   ]
  },
  {
   "cell_type": "code",
   "execution_count": 5,
   "metadata": {},
   "outputs": [],
   "source": [
    "sqlContext = SQLContext(spark)\n",
    "sc = spark.sparkContext\n",
    "training_data = sc.textFile(\"tempe_train.csv\")\n",
    "test_data = sc.textFile(\"tempe_test.csv\")"
   ]
  },
  {
   "cell_type": "code",
   "execution_count": 6,
   "metadata": {},
   "outputs": [],
   "source": [
    "header = training_data.first()\n",
    "header_test = test_data.first()\n",
    "\n",
    "train_rdd = training_data.filter(lambda z: z != header) \\\n",
    "    .map(lambda x: x.split(',')).map(lambda x: (x[0], x[1], x[2]))\n",
    "\n",
    "test_rdd = test_data.filter(lambda z: z != header) \\\n",
    "    .map(lambda x: x.split(',')).map(lambda x: (x[0], x[1], x[2]))\n",
    "\n",
    "all_dist_busId_test = test_rdd.map(lambda x: x[1]).distinct()\n",
    "all_dist_busId_train = train_rdd.map(lambda x: x[1]).distinct()\n",
    "\n",
    "all_dist_busId_final = all_dist_busId_test.union(all_dist_busId_train).distinct()  # .collect()\n",
    "\n",
    "all_busId_dict = {}\n",
    "uniqueId_forAll_busId = all_dist_busId_final.zipWithUniqueId()\n",
    "all_busId_dict = uniqueId_forAll_busId.collectAsMap()\n",
    "\n",
    "all_dist_userId_test = test_rdd.map(lambda x: x[0]).distinct()\n",
    "all_dist_userId_train = train_rdd.map(lambda x: x[0]).distinct()\n",
    "\n",
    "all_dist_userId_final = all_dist_userId_test.union(all_dist_userId_train).distinct()\n",
    "\n",
    "all_userId_dict = {}\n",
    "uniqueId_forAll_userId = all_dist_userId_final.zipWithUniqueId()\n",
    "all_userId_dict = uniqueId_forAll_userId.collectAsMap()\n",
    "\n"
   ]
  },
  {
   "cell_type": "code",
   "execution_count": 45,
   "metadata": {},
   "outputs": [],
   "source": [
    "final_train_rdd2 = train_rdd.map(lambda x: ((all_userId_dict[x[0]], all_busId_dict[x[1]], x[2])))\n",
    "\n",
    "final_train_rdd2.collect()\n",
    "\n",
    "final_ratings = final_train_rdd2.map(lambda x: Rating(x[0], x[1], x[2]))\n",
    "\n",
    "rank = 3\n",
    "numIterations = 20\n",
    "\n",
    "model = ALS.train(final_ratings, rank, numIterations, 0.01, seed=300)\n",
    "\n",
    "final_test_rdd = test_rdd.map(lambda x: ((all_userId_dict[x[0]], x[0]), (all_busId_dict[x[1]], x[1]), x[2]))\n",
    "\n",
    "final_test_rdd2 = test_rdd.map(lambda x: (all_userId_dict[x[0]], all_busId_dict[x[1]]))\n",
    "\n",
    "predictions = model.predictAll(final_test_rdd2).map(lambda r: ((r[0], r[1]), r[2]))"
   ]
  },
  {
   "cell_type": "code",
   "execution_count": 8,
   "metadata": {},
   "outputs": [
    {
     "name": "stdout",
     "output_type": "stream",
     "text": [
      "[((19021, 134), 3.7304237155072144), ((4926, 182), 3.756680551052405), ((4992, 1873), 3.605760805970192), ((4992, 1384), 3.2747931462352415), ((16132, 526), 0.6716863503201616)]\n"
     ]
    }
   ],
   "source": [
    "print(predictions.take(5))"
   ]
  },
  {
   "cell_type": "code",
   "execution_count": 28,
   "metadata": {},
   "outputs": [],
   "source": [
    "predictions_to_4 = predictions.map(lambda x: ((x[0][0], x[0][1]), float(x[1]) * 5/5))"
   ]
  },
  {
   "cell_type": "code",
   "execution_count": 29,
   "metadata": {},
   "outputs": [
    {
     "name": "stdout",
     "output_type": "stream",
     "text": [
      "[((19021, 134), 3.7304237155072144), ((4926, 182), 3.756680551052405), ((4992, 1873), 3.605760805970192), ((4992, 1384), 3.274793146235241), ((16132, 526), 0.6716863503201616)]\n"
     ]
    }
   ],
   "source": [
    "print(predictions_to_4.take(5))"
   ]
  },
  {
   "cell_type": "code",
   "execution_count": 30,
   "metadata": {},
   "outputs": [],
   "source": [
    "tempe_business_sentiments = sc.textFile(\"tempe_sentiments.csv\")\n"
   ]
  },
  {
   "cell_type": "code",
   "execution_count": 39,
   "metadata": {},
   "outputs": [
    {
     "name": "stdout",
     "output_type": "stream",
     "text": [
      "[(498, 0.44350135496684484), (724, 0.44899668715987745), (275, 0.4638065046818245), (331, 0.45467577934015224), (416, 0.44911617120107017)]\n"
     ]
    }
   ],
   "source": [
    "business_sentiments = tempe_business_sentiments.map(lambda x: x.split(',')).\\\n",
    "    map(lambda y: (all_busId_dict[y[0]], float(y[1]) * 1))\n",
    "\n",
    "print(business_sentiments.take(5))"
   ]
  },
  {
   "cell_type": "code",
   "execution_count": 40,
   "metadata": {},
   "outputs": [],
   "source": [
    "business_sentiments_map = business_sentiments.collectAsMap()"
   ]
  },
  {
   "cell_type": "code",
   "execution_count": 41,
   "metadata": {},
   "outputs": [],
   "source": [
    "predictions_to_5 = predictions_to_4.map(lambda x: ((x[0][0], x[0][1]), (x[1] + business_sentiments_map[x[0][1]])))"
   ]
  },
  {
   "cell_type": "code",
   "execution_count": 42,
   "metadata": {},
   "outputs": [
    {
     "name": "stdout",
     "output_type": "stream",
     "text": [
      "[((19021, 134), 4.198342974544855), ((4926, 182), 4.222502760388946), ((4992, 1873), 4.075064379638195), ((4992, 1384), 3.753532395876722), ((16132, 526), 1.1148299575704432)]\n"
     ]
    }
   ],
   "source": [
    "print(predictions_to_5.take(5))\n"
   ]
  },
  {
   "cell_type": "code",
   "execution_count": 43,
   "metadata": {},
   "outputs": [],
   "source": [
    "import math\n",
    "import collections"
   ]
  },
  {
   "cell_type": "code",
   "execution_count": 46,
   "metadata": {},
   "outputs": [
    {
     "name": "stdout",
     "output_type": "stream",
     "text": [
      "Root Mean Squared Error = 1.4779735847492919\n",
      ">=0 and <1: 13110\n",
      ">=1 and <2: 5685\n",
      ">=2 and <3: 2382\n",
      ">=3 and <4: 1189\n",
      ">=4: 223\n"
     ]
    }
   ],
   "source": [
    "final_test_rdd = test_rdd.map(lambda x: ((all_userId_dict[x[0]], all_busId_dict[x[1]]), (x[0], x[1], x[2])))\n",
    "ratesAndPreds = final_test_rdd.join(predictions_to_5)\n",
    "\n",
    "MSE = ratesAndPreds.map(lambda x: ((float(x[1][0][2]) - x[1][1]) ** 2)).mean()\n",
    "\n",
    "#print(MSE)\n",
    "\n",
    "\n",
    "abs_diff_between_rate_and_pred = ratesAndPreds.map(lambda x: abs(float(x[1][0][2]) - x[1][1]))\n",
    "\n",
    "abs_diff_between_rate_and_pred.take(10)\n",
    "\n",
    "zero_to_one = abs_diff_between_rate_and_pred.filter(lambda x: 0 <= x <= 1.0).count()\n",
    "one_to_two = abs_diff_between_rate_and_pred.filter(lambda x: 1.0 <= x <= 2.0).count()\n",
    "two_to_three = abs_diff_between_rate_and_pred.filter(lambda x: 2.0 <= x <= 3.0).count()\n",
    "three_to_four = abs_diff_between_rate_and_pred.filter(lambda x: 3.0 <= x <= 4.0).count()\n",
    "greater_than_four = abs_diff_between_rate_and_pred.filter(lambda x: x >= 4.0).count()\n",
    "\n",
    "print(\"Root Mean Squared Error = \" + str(math.sqrt(MSE)))\n",
    "print(\">=0 and <1: \" + str(zero_to_one))\n",
    "print(\">=1 and <2: \" + str(one_to_two))\n",
    "print(\">=2 and <3: \" + str(two_to_three))\n",
    "print(\">=3 and <4: \" + str(three_to_four))\n",
    "print(\">=4: \" + str(greater_than_four))\n",
    "\n",
    "final_results_dict = ratesAndPreds.map(lambda x: ((x[1][0][0], x[1][0][1]), x[1][1])).collectAsMap()\n",
    "\n",
    "test_final_results_dict = collections.OrderedDict(sorted(final_results_dict.items()))\n",
    "\n",
    "\n",
    "f = open(\"tempe_ModelBasedCF.txt\", 'w+')\n",
    "\n",
    "for k, v in test_final_results_dict.items():\n",
    "    f.write(str(k[0]) + \",\" + str(k[1]) + \",\" + str(v) + '\\n')"
   ]
  },
  {
   "cell_type": "code",
   "execution_count": null,
   "metadata": {},
   "outputs": [],
   "source": []
  }
 ],
 "metadata": {
  "kernelspec": {
   "display_name": "Python 2",
   "language": "python",
   "name": "python2"
  },
  "language_info": {
   "codemirror_mode": {
    "name": "ipython",
    "version": 2
   },
   "file_extension": ".py",
   "mimetype": "text/x-python",
   "name": "python",
   "nbconvert_exporter": "python",
   "pygments_lexer": "ipython2",
   "version": "2.7.15"
  }
 },
 "nbformat": 4,
 "nbformat_minor": 2
}
