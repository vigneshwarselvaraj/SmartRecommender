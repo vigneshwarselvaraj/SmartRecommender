{
 "cells": [
  {
   "cell_type": "code",
   "execution_count": 1,
   "metadata": {},
   "outputs": [
    {
     "data": {
      "text/plain": [
       "business_id\n",
       "--9QQLMTbFzLJ_oT-ON3Xw     10\n",
       "--ab39IjZR_xUf81WyTyHg     10\n",
       "-0Sgh0QlUKVsWosCWJzGqQ     28\n",
       "-2A9emZwBK8zYHPnAmM0hw      5\n",
       "-2MFmbCTycnU4uPJ7jXfcA      2\n",
       "-2X9U7v-Avoib-ki0y85bA     37\n",
       "-4g68Hwm892_KPUuW5g1_Q     40\n",
       "-4kOf3wcZp5bvxORgsW1gA     10\n",
       "-82Z0wTA-nOCLUVD4XXIBA     30\n",
       "-8QlV3b_9H4BAh6LgMIr1g    440\n",
       "Name: star, dtype: int64"
      ]
     },
     "execution_count": 1,
     "metadata": {},
     "output_type": "execute_result"
    }
   ],
   "source": [
    "import pandas as pd\n",
    "reviews = pd.read_csv(\"yelp_academic_dataset_reviews_for_training.csv\")\n",
    "num_prev_reviews = reviews.groupby(\"business_id\")['star'].count()\n",
    "num_prev_reviews.head(10)"
   ]
  },
  {
   "cell_type": "code",
   "execution_count": 3,
   "metadata": {},
   "outputs": [
    {
     "data": {
      "text/plain": [
       "business_id\n",
       "--9QQLMTbFzLJ_oT-ON3Xw      2.000000\n",
       "--ab39IjZR_xUf81WyTyHg      2.000000\n",
       "-0Sgh0QlUKVsWosCWJzGqQ      4.666667\n",
       "-2A9emZwBK8zYHPnAmM0hw      2.500000\n",
       "-2MFmbCTycnU4uPJ7jXfcA      1.000000\n",
       "-2X9U7v-Avoib-ki0y85bA      6.166667\n",
       "-4g68Hwm892_KPUuW5g1_Q      5.714286\n",
       "-4kOf3wcZp5bvxORgsW1gA      2.000000\n",
       "-82Z0wTA-nOCLUVD4XXIBA      3.000000\n",
       "-8QlV3b_9H4BAh6LgMIr1g    110.000000\n",
       "Name: star, dtype: float64"
      ]
     },
     "execution_count": 3,
     "metadata": {},
     "output_type": "execute_result"
    }
   ],
   "source": [
    "avg_review_count = reviews.groupby([\"business_id\", \"year\"])[['star']].count().reset_index()\n",
    "avg_review_count = avg_review_count.groupby('business_id')['star'].mean()\n",
    "avg_review_count.head(10)"
   ]
  },
  {
   "cell_type": "code",
   "execution_count": 4,
   "metadata": {},
   "outputs": [
    {
     "data": {
      "text/plain": [
       "business_id\n",
       "--9QQLMTbFzLJ_oT-ON3Xw    3.400000\n",
       "--ab39IjZR_xUf81WyTyHg    4.200000\n",
       "-0Sgh0QlUKVsWosCWJzGqQ    2.285714\n",
       "-2A9emZwBK8zYHPnAmM0hw    2.200000\n",
       "-2MFmbCTycnU4uPJ7jXfcA    5.000000\n",
       "-2X9U7v-Avoib-ki0y85bA    4.594595\n",
       "-4g68Hwm892_KPUuW5g1_Q    2.675000\n",
       "-4kOf3wcZp5bvxORgsW1gA    3.500000\n",
       "-82Z0wTA-nOCLUVD4XXIBA    3.166667\n",
       "-8QlV3b_9H4BAh6LgMIr1g    4.231818\n",
       "Name: star, dtype: float64"
      ]
     },
     "execution_count": 4,
     "metadata": {},
     "output_type": "execute_result"
    }
   ],
   "source": [
    "avg_rating = reviews.groupby(\"business_id\")['star'].mean()\n",
    "avg_rating.head(10)"
   ]
  },
  {
   "cell_type": "code",
   "execution_count": 5,
   "metadata": {},
   "outputs": [
    {
     "data": {
      "text/plain": [
       "business_id\n",
       "--9QQLMTbFzLJ_oT-ON3Xw    0\n",
       "--ab39IjZR_xUf81WyTyHg    1\n",
       "-0Sgh0QlUKVsWosCWJzGqQ    0\n",
       "-2A9emZwBK8zYHPnAmM0hw    0\n",
       "-2MFmbCTycnU4uPJ7jXfcA    0\n",
       "-2X9U7v-Avoib-ki0y85bA    4\n",
       "-4g68Hwm892_KPUuW5g1_Q    0\n",
       "-4kOf3wcZp5bvxORgsW1gA    0\n",
       "-82Z0wTA-nOCLUVD4XXIBA    1\n",
       "-8QlV3b_9H4BAh6LgMIr1g    4\n",
       "Name: success, dtype: int64"
      ]
     },
     "execution_count": 5,
     "metadata": {},
     "output_type": "execute_result"
    }
   ],
   "source": [
    "ratings_count = reviews.groupby([\"business_id\", \"year\"]).agg({'star': ['count', 'mean']})\n",
    "successful_business_count = ratings_count.apply(lambda row: 1 if row[('star', 'count')]>2 and row[('star', 'mean')]>=4\\\n",
    "                                               else 0, 1)\n",
    "successful_business_count = successful_business_count.to_frame().reset_index()\n",
    "successful_business_count.columns = [\"business_id\", \"year\", \"success\"]\n",
    "succ_count = successful_business_count.groupby(\"business_id\")[\"success\"].sum()\n",
    "succ_count.head(10)"
   ]
  },
  {
   "cell_type": "code",
   "execution_count": 7,
   "metadata": {},
   "outputs": [
    {
     "data": {
      "text/plain": [
       "business_id\n",
       "--9QQLMTbFzLJ_oT-ON3Xw    0\n",
       "--ab39IjZR_xUf81WyTyHg    0\n",
       "-0Sgh0QlUKVsWosCWJzGqQ    0\n",
       "-2A9emZwBK8zYHPnAmM0hw    0\n",
       "-2MFmbCTycnU4uPJ7jXfcA    0\n",
       "-2X9U7v-Avoib-ki0y85bA    1\n",
       "-4g68Hwm892_KPUuW5g1_Q    0\n",
       "-4kOf3wcZp5bvxORgsW1gA    0\n",
       "-82Z0wTA-nOCLUVD4XXIBA    0\n",
       "-8QlV3b_9H4BAh6LgMIr1g    1\n",
       "dtype: int64"
      ]
     },
     "execution_count": 7,
     "metadata": {},
     "output_type": "execute_result"
    }
   ],
   "source": [
    "successful_last_year = successful_business_count.groupby(\"business_id\").apply(lambda df: df.sort_values('year').iloc[-1]['success'])\n",
    "successful_last_year.head(10)"
   ]
  },
  {
   "cell_type": "code",
   "execution_count": 8,
   "metadata": {},
   "outputs": [],
   "source": [
    "merged = pd.concat([num_prev_reviews, avg_review_count, avg_rating, succ_count, successful_last_year], 1)\n",
    "merged.columns = \"no_previous_reviews average_number_reviews_per_year average_rating no_years_success last_year_success\".split()\n",
    "\n",
    "merged.to_csv(\"reviews_features.csv\")"
   ]
  },
  {
   "cell_type": "code",
   "execution_count": null,
   "metadata": {},
   "outputs": [],
   "source": []
  }
 ],
 "metadata": {
  "kernelspec": {
   "display_name": "Python 2",
   "language": "python",
   "name": "python2"
  },
  "language_info": {
   "codemirror_mode": {
    "name": "ipython",
    "version": 2
   },
   "file_extension": ".py",
   "mimetype": "text/x-python",
   "name": "python",
   "nbconvert_exporter": "python",
   "pygments_lexer": "ipython2",
   "version": "2.7.15"
  }
 },
 "nbformat": 4,
 "nbformat_minor": 2
}
