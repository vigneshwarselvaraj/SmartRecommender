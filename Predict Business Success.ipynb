{
 "cells": [
  {
   "cell_type": "code",
   "execution_count": 1,
   "metadata": {},
   "outputs": [
    {
     "name": "stdout",
     "output_type": "stream",
     "text": [
      "reviews/reviews_features.csv\n"
     ]
    },
    {
     "data": {
      "text/html": [
       "<div>\n",
       "<style scoped>\n",
       "    .dataframe tbody tr th:only-of-type {\n",
       "        vertical-align: middle;\n",
       "    }\n",
       "\n",
       "    .dataframe tbody tr th {\n",
       "        vertical-align: top;\n",
       "    }\n",
       "\n",
       "    .dataframe thead th {\n",
       "        text-align: right;\n",
       "    }\n",
       "</style>\n",
       "<table border=\"1\" class=\"dataframe\">\n",
       "  <thead>\n",
       "    <tr style=\"text-align: right;\">\n",
       "      <th></th>\n",
       "      <th>reviews_no_previous_reviews</th>\n",
       "      <th>reviews_average_number_reviews_per_year</th>\n",
       "      <th>reviews_average_rating</th>\n",
       "      <th>reviews_no_years_success</th>\n",
       "      <th>reviews_last_year_success</th>\n",
       "      <th>suc</th>\n",
       "    </tr>\n",
       "    <tr>\n",
       "      <th>business_id</th>\n",
       "      <th></th>\n",
       "      <th></th>\n",
       "      <th></th>\n",
       "      <th></th>\n",
       "      <th></th>\n",
       "      <th></th>\n",
       "    </tr>\n",
       "  </thead>\n",
       "  <tbody>\n",
       "    <tr>\n",
       "      <th>--9QQLMTbFzLJ_oT-ON3Xw</th>\n",
       "      <td>10</td>\n",
       "      <td>2.000000</td>\n",
       "      <td>3.400000</td>\n",
       "      <td>0</td>\n",
       "      <td>0</td>\n",
       "      <td>0.0</td>\n",
       "    </tr>\n",
       "    <tr>\n",
       "      <th>--ab39IjZR_xUf81WyTyHg</th>\n",
       "      <td>10</td>\n",
       "      <td>2.000000</td>\n",
       "      <td>4.200000</td>\n",
       "      <td>1</td>\n",
       "      <td>0</td>\n",
       "      <td>0.0</td>\n",
       "    </tr>\n",
       "    <tr>\n",
       "      <th>-0Sgh0QlUKVsWosCWJzGqQ</th>\n",
       "      <td>28</td>\n",
       "      <td>4.666667</td>\n",
       "      <td>2.285714</td>\n",
       "      <td>0</td>\n",
       "      <td>0</td>\n",
       "      <td>0.0</td>\n",
       "    </tr>\n",
       "    <tr>\n",
       "      <th>-2A9emZwBK8zYHPnAmM0hw</th>\n",
       "      <td>5</td>\n",
       "      <td>2.500000</td>\n",
       "      <td>2.200000</td>\n",
       "      <td>0</td>\n",
       "      <td>0</td>\n",
       "      <td>0.0</td>\n",
       "    </tr>\n",
       "    <tr>\n",
       "      <th>-2MFmbCTycnU4uPJ7jXfcA</th>\n",
       "      <td>2</td>\n",
       "      <td>1.000000</td>\n",
       "      <td>5.000000</td>\n",
       "      <td>0</td>\n",
       "      <td>0</td>\n",
       "      <td>1.0</td>\n",
       "    </tr>\n",
       "    <tr>\n",
       "      <th>-2X9U7v-Avoib-ki0y85bA</th>\n",
       "      <td>37</td>\n",
       "      <td>6.166667</td>\n",
       "      <td>4.594595</td>\n",
       "      <td>4</td>\n",
       "      <td>1</td>\n",
       "      <td>1.0</td>\n",
       "    </tr>\n",
       "    <tr>\n",
       "      <th>-4g68Hwm892_KPUuW5g1_Q</th>\n",
       "      <td>40</td>\n",
       "      <td>5.714286</td>\n",
       "      <td>2.675000</td>\n",
       "      <td>0</td>\n",
       "      <td>0</td>\n",
       "      <td>0.0</td>\n",
       "    </tr>\n",
       "    <tr>\n",
       "      <th>-4kOf3wcZp5bvxORgsW1gA</th>\n",
       "      <td>10</td>\n",
       "      <td>2.000000</td>\n",
       "      <td>3.500000</td>\n",
       "      <td>0</td>\n",
       "      <td>0</td>\n",
       "      <td>0.0</td>\n",
       "    </tr>\n",
       "    <tr>\n",
       "      <th>-82Z0wTA-nOCLUVD4XXIBA</th>\n",
       "      <td>30</td>\n",
       "      <td>3.000000</td>\n",
       "      <td>3.166667</td>\n",
       "      <td>1</td>\n",
       "      <td>0</td>\n",
       "      <td>0.0</td>\n",
       "    </tr>\n",
       "    <tr>\n",
       "      <th>-8QlV3b_9H4BAh6LgMIr1g</th>\n",
       "      <td>440</td>\n",
       "      <td>110.000000</td>\n",
       "      <td>4.231818</td>\n",
       "      <td>4</td>\n",
       "      <td>1</td>\n",
       "      <td>1.0</td>\n",
       "    </tr>\n",
       "  </tbody>\n",
       "</table>\n",
       "</div>"
      ],
      "text/plain": [
       "                        reviews_no_previous_reviews  \\\n",
       "business_id                                           \n",
       "--9QQLMTbFzLJ_oT-ON3Xw                           10   \n",
       "--ab39IjZR_xUf81WyTyHg                           10   \n",
       "-0Sgh0QlUKVsWosCWJzGqQ                           28   \n",
       "-2A9emZwBK8zYHPnAmM0hw                            5   \n",
       "-2MFmbCTycnU4uPJ7jXfcA                            2   \n",
       "-2X9U7v-Avoib-ki0y85bA                           37   \n",
       "-4g68Hwm892_KPUuW5g1_Q                           40   \n",
       "-4kOf3wcZp5bvxORgsW1gA                           10   \n",
       "-82Z0wTA-nOCLUVD4XXIBA                           30   \n",
       "-8QlV3b_9H4BAh6LgMIr1g                          440   \n",
       "\n",
       "                        reviews_average_number_reviews_per_year  \\\n",
       "business_id                                                       \n",
       "--9QQLMTbFzLJ_oT-ON3Xw                                 2.000000   \n",
       "--ab39IjZR_xUf81WyTyHg                                 2.000000   \n",
       "-0Sgh0QlUKVsWosCWJzGqQ                                 4.666667   \n",
       "-2A9emZwBK8zYHPnAmM0hw                                 2.500000   \n",
       "-2MFmbCTycnU4uPJ7jXfcA                                 1.000000   \n",
       "-2X9U7v-Avoib-ki0y85bA                                 6.166667   \n",
       "-4g68Hwm892_KPUuW5g1_Q                                 5.714286   \n",
       "-4kOf3wcZp5bvxORgsW1gA                                 2.000000   \n",
       "-82Z0wTA-nOCLUVD4XXIBA                                 3.000000   \n",
       "-8QlV3b_9H4BAh6LgMIr1g                               110.000000   \n",
       "\n",
       "                        reviews_average_rating  reviews_no_years_success  \\\n",
       "business_id                                                                \n",
       "--9QQLMTbFzLJ_oT-ON3Xw                3.400000                         0   \n",
       "--ab39IjZR_xUf81WyTyHg                4.200000                         1   \n",
       "-0Sgh0QlUKVsWosCWJzGqQ                2.285714                         0   \n",
       "-2A9emZwBK8zYHPnAmM0hw                2.200000                         0   \n",
       "-2MFmbCTycnU4uPJ7jXfcA                5.000000                         0   \n",
       "-2X9U7v-Avoib-ki0y85bA                4.594595                         4   \n",
       "-4g68Hwm892_KPUuW5g1_Q                2.675000                         0   \n",
       "-4kOf3wcZp5bvxORgsW1gA                3.500000                         0   \n",
       "-82Z0wTA-nOCLUVD4XXIBA                3.166667                         1   \n",
       "-8QlV3b_9H4BAh6LgMIr1g                4.231818                         4   \n",
       "\n",
       "                        reviews_last_year_success  suc  \n",
       "business_id                                             \n",
       "--9QQLMTbFzLJ_oT-ON3Xw                          0  0.0  \n",
       "--ab39IjZR_xUf81WyTyHg                          0  0.0  \n",
       "-0Sgh0QlUKVsWosCWJzGqQ                          0  0.0  \n",
       "-2A9emZwBK8zYHPnAmM0hw                          0  0.0  \n",
       "-2MFmbCTycnU4uPJ7jXfcA                          0  1.0  \n",
       "-2X9U7v-Avoib-ki0y85bA                          1  1.0  \n",
       "-4g68Hwm892_KPUuW5g1_Q                          0  0.0  \n",
       "-4kOf3wcZp5bvxORgsW1gA                          0  0.0  \n",
       "-82Z0wTA-nOCLUVD4XXIBA                          0  0.0  \n",
       "-8QlV3b_9H4BAh6LgMIr1g                          1  1.0  "
      ]
     },
     "execution_count": 1,
     "metadata": {},
     "output_type": "execute_result"
    }
   ],
   "source": [
    "import pandas as pd\n",
    "import os\n",
    "folders = [\"reviews/\"]\n",
    "files = [folder+f for folder in folders for f in os.listdir(folder)]\n",
    "\n",
    "data = None\n",
    "for f in files:\n",
    "    print f\n",
    "    df = pd.read_csv(f)\n",
    "    df = df.set_index('business_id')\n",
    "    df.columns = map(lambda c: f.split(\"/\")[-2]+\"_\"+c, df.columns)\n",
    "    data = df if data is None else df.join(data, rsuffix=\"_\"+f[:3])\n",
    "\n",
    "labels = pd.read_csv(\"business_labels.csv\", index_col=0).dropna()\n",
    "\n",
    "data = data.join(labels).dropna()\n",
    "data.head(10)"
   ]
  },
  {
   "cell_type": "code",
   "execution_count": 3,
   "metadata": {},
   "outputs": [
    {
     "name": "stdout",
     "output_type": "stream",
     "text": [
      "Accuracy: 0.750873108265\n",
      "             precision    recall  f1-score   support\n",
      "\n",
      "        Bad       0.82      0.85      0.83       636\n",
      "       Good       0.52      0.47      0.50       223\n",
      "\n",
      "avg / total       0.74      0.75      0.75       859\n",
      "\n",
      "AUC ROC: 0.6767634035592407\n"
     ]
    }
   ],
   "source": [
    "from sklearn.model_selection import train_test_split\n",
    "from collections import Counter\n",
    "import numpy as np\n",
    "from sklearn.metrics import classification_report\n",
    "from sklearn.metrics import roc_auc_score\n",
    "from sklearn.tree import DecisionTreeClassifier\n",
    "\n",
    "X = data.drop('suc', 1).values\n",
    "y = data['suc'].values\n",
    "\n",
    "X_train, X_test, y_train, y_test = train_test_split(X, y, test_size=0.25, random_state=42)\n",
    "\n",
    "clf = DecisionTreeClassifier()\n",
    "clf.fit(X_train, y_train)\n",
    "probabilities = np.asarray([t[1] for t in clf.predict_proba(X_test)])\n",
    "preds = np.asarray([1 if t>0.5 else 0 for t in probabilities])\n",
    "\n",
    "print \"Accuracy:\", len(filter(lambda t: t[0]==t[1], zip(preds, y_test)))/float(len(y_test))\n",
    "print(classification_report(y_test, preds, target_names=\"Bad Good\".split()))\n",
    "print \"AUC ROC:\", roc_auc_score(y_test, probabilities)"
   ]
  },
  {
   "cell_type": "code",
   "execution_count": 4,
   "metadata": {},
   "outputs": [
    {
     "name": "stdout",
     "output_type": "stream",
     "text": [
      "Accuracy: 0.753201396973\n",
      "             precision    recall  f1-score   support\n",
      "\n",
      "        Bad       0.88      0.78      0.82       636\n",
      "       Good       0.52      0.69      0.59       223\n",
      "\n",
      "avg / total       0.78      0.75      0.76       859\n",
      "\n",
      "AUC ROC: 0.825711425106467\n"
     ]
    },
    {
     "name": "stderr",
     "output_type": "stream",
     "text": [
      "/Users/vigneshwar/anaconda3/envs/py27/lib/python2.7/site-packages/sklearn/ensemble/weight_boosting.py:29: DeprecationWarning: numpy.core.umath_tests is an internal NumPy module and should not be imported. It will be removed in a future NumPy release.\n",
      "  from numpy.core.umath_tests import inner1d\n"
     ]
    }
   ],
   "source": [
    "from sklearn.ensemble import RandomForestClassifier\n",
    "clfrf = RandomForestClassifier(n_estimators=30, min_samples_split=20, min_samples_leaf=10, \n",
    "                             class_weight=dict(zip(range(2), [0.2, 0.8])))\n",
    "clfrf.fit(X_train, y_train)\n",
    "prob_random_forest = np.asarray([t[1] for t in clfrf.predict_proba(X_test)])\n",
    "preds = np.asarray([1 if t>0.5 else 0 for t in prob_random_forest])\n",
    "\n",
    "print \"Accuracy:\", len(filter(lambda t: t[0]==t[1], zip(preds, y_test)))/float(len(y_test))\n",
    "print(classification_report(y_test, preds, target_names=\"Bad Good\".split()))\n",
    "print \"AUC ROC:\", roc_auc_score(y_test, prob_random_forest)"
   ]
  },
  {
   "cell_type": "code",
   "execution_count": 5,
   "metadata": {},
   "outputs": [
    {
     "name": "stdout",
     "output_type": "stream",
     "text": [
      "Accuracy: 0.782305005821\n",
      "             precision    recall  f1-score   support\n",
      "\n",
      "        Bad       0.82      0.91      0.86       636\n",
      "       Good       0.62      0.41      0.50       223\n",
      "\n",
      "avg / total       0.77      0.78      0.77       859\n",
      "\n",
      "AUC ROC: 0.7914833460247623\n"
     ]
    }
   ],
   "source": [
    "from sklearn.ensemble import RandomForestClassifier\n",
    "\n",
    "clf = RandomForestClassifier()\n",
    "clf.fit(X_train, y_train)\n",
    "probabilities = np.asarray([t[1] for t in clf.predict_proba(X_test)])\n",
    "preds = np.asarray([1 if t>0.5 else 0 for t in probabilities])\n",
    "\n",
    "print \"Accuracy:\", len(filter(lambda t: t[0]==t[1], zip(preds, y_test)))/float(len(y_test))\n",
    "print(classification_report(y_test, preds, target_names=\"Bad Good\".split()))\n",
    "print \"AUC ROC:\", roc_auc_score(y_test, probabilities)"
   ]
  },
  {
   "cell_type": "code",
   "execution_count": 6,
   "metadata": {},
   "outputs": [
    {
     "name": "stdout",
     "output_type": "stream",
     "text": [
      "Accuracy: 0.597206053551\n",
      "             precision    recall  f1-score   support\n",
      "\n",
      "        Bad       0.93      0.49      0.64       636\n",
      "       Good       0.38      0.90      0.54       223\n",
      "\n",
      "avg / total       0.79      0.60      0.62       859\n",
      "\n"
     ]
    },
    {
     "name": "stderr",
     "output_type": "stream",
     "text": [
      "/Users/vigneshwar/anaconda3/envs/py27/lib/python2.7/site-packages/sklearn/metrics/classification.py:1135: UndefinedMetricWarning: Precision is ill-defined and being set to 0.0 in labels with no predicted samples.\n",
      "  'precision', 'predicted', average, warn_for)\n"
     ]
    }
   ],
   "source": [
    "from sklearn.metrics import roc_curve\n",
    "from sklearn.metrics import f1_score, accuracy_score, precision_score\n",
    "import random\n",
    "\n",
    "def get_best_cut(y_test, probabilities):\n",
    "    fpr, tpr, thresholds = roc_curve(y_test, probabilities)\n",
    "    \n",
    "    return [(thresh, precision_score(y_test, [1 if p>thresh else 0 for p in probabilities], average=\"weighted\"))\n",
    "                for thresh in random.sample(thresholds, 50)]\n",
    "\n",
    "scores = get_best_cut(y_test, probabilities)\n",
    "best_cut, fscore = max(scores, key=lambda t: t[1])\n",
    "\n",
    "preds = np.asarray([1 if t>best_cut else 0 for t in probabilities])\n",
    "\n",
    "print \"Accuracy:\", len(filter(lambda t: t[0]==t[1], zip(preds, y_test)))/float(len(y_test))\n",
    "print(classification_report(y_test, preds, target_names=\"Bad Good\".split()))"
   ]
  },
  {
   "cell_type": "code",
   "execution_count": 7,
   "metadata": {},
   "outputs": [
    {
     "name": "stdout",
     "output_type": "stream",
     "text": [
      "Accuracy: 0.80908032596\n",
      "             precision    recall  f1-score   support\n",
      "\n",
      "        Bad       0.83      0.93      0.88       636\n",
      "       Good       0.70      0.47      0.56       223\n",
      "\n",
      "avg / total       0.80      0.81      0.80       859\n",
      "\n",
      "AUC ROC: 0.8182199565671094\n"
     ]
    }
   ],
   "source": [
    "from sklearn.ensemble import GradientBoostingClassifier\n",
    "\n",
    "clfgb = GradientBoostingClassifier()\n",
    "clfgb.fit(X_train, y_train)\n",
    "prob_gradient_boosting = np.asarray([t[1] for t in clfgb.predict_proba(X_test)])\n",
    "preds = np.asarray([1 if t>0.5 else 0 for t in prob_gradient_boosting])\n",
    "\n",
    "print \"Accuracy:\", len(filter(lambda t: t[0]==t[1], zip(preds, y_test)))/float(len(y_test))\n",
    "print(classification_report(y_test, preds, target_names=\"Bad Good\".split()))\n",
    "print \"AUC ROC:\", roc_auc_score(y_test, prob_gradient_boosting)"
   ]
  },
  {
   "cell_type": "code",
   "execution_count": 9,
   "metadata": {},
   "outputs": [
    {
     "data": {
      "image/png": "[encoded data removed]",
      "text/plain": [
       "<Figure size 864x576 with 1 Axes>"
      ]
     },
     "metadata": {
      "needs_background": "light"
     },
     "output_type": "display_data"
    }
   ],
   "source": [
    "from sklearn.metrics import roc_curve\n",
    "from matplotlib import pyplot as plt\n",
    "plt.figure(figsize=(12,8))\n",
    "\n",
    "fprdt, tprdt, thresholds = roc_curve(y_test, probabilities)\n",
    "fprrf, tprrf, thresholds = roc_curve(y_test, prob_random_forest)\n",
    "fprgb, tprgb, thresholds = roc_curve(y_test, prob_gradient_boosting)\n",
    "\n",
    "lw = 2\n",
    "plt.plot(fprdt, tprdt, color='darkorange',\n",
    "         lw=lw, label='Decision Tree ROC curve (area = 0.63f)')\n",
    "plt.plot(fprrf, tprrf, color='darkblue',\n",
    "         lw=lw, label='Random Forest ROC curve (area = 0.82f)')\n",
    "plt.plot(fprgb, tprgb, color='darkred',\n",
    "         lw=lw, label='Gradient Boosting ROC curve (area = 0.83f)')\n",
    "plt.plot([0, 1], [0, 1], color='navy', lw=lw, linestyle='--')\n",
    "plt.xlim([0.0, 1.0])\n",
    "plt.ylim([0.0, 1.05])\n",
    "plt.xlabel('False Positive Rate')\n",
    "plt.ylabel('True Positive Rate')\n",
    "plt.title('Receiver operating characteristic example')\n",
    "plt.legend(loc=\"lower right\")\n",
    "plt.show()"
   ]
  },
  {
   "cell_type": "code",
   "execution_count": null,
   "metadata": {},
   "outputs": [],
   "source": []
  }
 ],
 "metadata": {
  "kernelspec": {
   "display_name": "Python 2",
   "language": "python",
   "name": "python2"
  },
  "language_info": {
   "codemirror_mode": {
    "name": "ipython",
    "version": 2
   },
   "file_extension": ".py",
   "mimetype": "text/x-python",
   "name": "python",
   "nbconvert_exporter": "python",
   "pygments_lexer": "ipython2",
   "version": "2.7.15"
  }
 },
 "nbformat": 4,
 "nbformat_minor": 2
}
