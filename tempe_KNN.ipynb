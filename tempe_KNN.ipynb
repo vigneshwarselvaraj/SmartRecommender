{
 "cells": [
  {
   "cell_type": "code",
   "execution_count": 1,
   "metadata": {},
   "outputs": [],
   "source": [
    "import math\n",
    "\n",
    "import findspark\n",
    "findspark.init()\n",
    "\n",
    "import pyspark\n",
    "from pyspark.mllib.recommendation import ALS, MatrixFactorizationModel, Rating\n",
    "\n",
    "\n",
    "import collections\n",
    "import time\n",
    "import sys\n",
    "\n",
    "import nltk\n",
    "import sklearn\n",
    "import numpy\n",
    "import pandas as pd\n",
    "\n",
    "sc = pyspark.SparkContext(\"local\", \"Recommendation system\")\n",
    "\n",
    "training_data = sc.textFile(\"tempe_train.csv\")\n",
    "test_data = sc.textFile(\"tempe_test.csv\")\n",
    "\n",
    "\n"
   ]
  },
  {
   "cell_type": "code",
   "execution_count": 2,
   "metadata": {},
   "outputs": [],
   "source": [
    "from sklearn.preprocessing import StandardScaler  "
   ]
  },
  {
   "cell_type": "code",
   "execution_count": 4,
   "metadata": {},
   "outputs": [
    {
     "data": {
      "text/plain": [
       "[u'-3gIDSqZ04FROn3du4CK2A,-xIrVu_7prj_0GDl1tds1w,5',\n",
       " u'-3gIDSqZ04FROn3du4CK2A,Bjn-GQg6hoUOkew7tTPcLA,5',\n",
       " u'-3gIDSqZ04FROn3du4CK2A,GjjSC7aAXdff8jERc3URYw,4',\n",
       " u'-3gIDSqZ04FROn3du4CK2A,ZHQU79PMUGCX0fEoyCcWlw,5']"
      ]
     },
     "execution_count": 4,
     "metadata": {},
     "output_type": "execute_result"
    }
   ],
   "source": [
    "header_new = test_data.first()\n",
    "\n",
    "test_data.filter(lambda x: x!=header_new).take(4)"
   ]
  },
  {
   "cell_type": "code",
   "execution_count": 5,
   "metadata": {},
   "outputs": [
    {
     "data": {
      "text/plain": [
       "True"
      ]
     },
     "execution_count": 5,
     "metadata": {},
     "output_type": "execute_result"
    }
   ],
   "source": [
    "from pyspark.sql import SparkSession\n",
    "spark = SparkSession(sc)\n",
    "hasattr(training_data,\"toDF\")"
   ]
  },
  {
   "cell_type": "code",
   "execution_count": 6,
   "metadata": {},
   "outputs": [],
   "source": [
    "header = training_data.first()\n",
    "header_test = test_data.first()\n",
    "\n",
    "train_rdd = training_data.filter(lambda z: z != header) \\\n",
    "    .map(lambda x: x.split(',')).map(lambda x: (x[0], x[1], x[2]))\n",
    "\n",
    "test_rdd = test_data.filter(lambda z: z != header) \\\n",
    "    .map(lambda x: x.split(',')).map(lambda x: (x[0], x[1], x[2]))\n"
   ]
  },
  {
   "cell_type": "code",
   "execution_count": 7,
   "metadata": {},
   "outputs": [
    {
     "data": {
      "text/plain": [
       "[(u'user_id', u'business_id', u'rating'),\n",
       " (u'-3gIDSqZ04FROn3du4CK2A', u'-xIrVu_7prj_0GDl1tds1w', u'5')]"
      ]
     },
     "execution_count": 7,
     "metadata": {},
     "output_type": "execute_result"
    }
   ],
   "source": [
    "test_rdd.take(2)"
   ]
  },
  {
   "cell_type": "code",
   "execution_count": 8,
   "metadata": {},
   "outputs": [],
   "source": [
    "all_dist_busId_test = test_rdd.map(lambda x: x[1]).distinct()\n",
    "all_dist_busId_train = train_rdd.map(lambda x: x[1]).distinct()\n",
    "\n",
    "all_dist_busId_final = all_dist_busId_test.union(all_dist_busId_train).distinct()"
   ]
  },
  {
   "cell_type": "code",
   "execution_count": 9,
   "metadata": {},
   "outputs": [
    {
     "data": {
      "text/plain": [
       "3524"
      ]
     },
     "execution_count": 9,
     "metadata": {},
     "output_type": "execute_result"
    }
   ],
   "source": [
    "all_dist_busId_final.count()"
   ]
  },
  {
   "cell_type": "code",
   "execution_count": 10,
   "metadata": {},
   "outputs": [],
   "source": [
    "all_busId_dict = {}\n",
    "uniqueId_forAll_busId = all_dist_busId_final.zipWithUniqueId()\n",
    "all_busId_dict = uniqueId_forAll_busId.collectAsMap()"
   ]
  },
  {
   "cell_type": "code",
   "execution_count": 11,
   "metadata": {},
   "outputs": [],
   "source": [
    "all_dist_userId_test = test_rdd.map(lambda x: x[0]).distinct()\n",
    "all_dist_userId_train = train_rdd.map(lambda x: x[0]).distinct()\n",
    "\n",
    "all_dist_userId_final = all_dist_userId_test.union(all_dist_userId_train).distinct()\n",
    "\n",
    "all_userId_dict = {}\n",
    "uniqueId_forAll_userId = all_dist_userId_final.zipWithUniqueId()\n",
    "all_userId_dict = uniqueId_forAll_userId.collectAsMap()\n"
   ]
  },
  {
   "cell_type": "code",
   "execution_count": 12,
   "metadata": {},
   "outputs": [],
   "source": [
    "final_train_rdd2 = train_rdd.map(lambda x: ((all_userId_dict[x[0]], all_busId_dict[x[1]], x[2])))\n",
    "\n",
    "\n"
   ]
  },
  {
   "cell_type": "code",
   "execution_count": 13,
   "metadata": {},
   "outputs": [
    {
     "data": {
      "text/plain": [
       "[(76795, 1646, u'5'),\n",
       " (81588, 1035, u'5'),\n",
       " (15969, 2606, u'5'),\n",
       " (56804, 1583, u'4')]"
      ]
     },
     "execution_count": 13,
     "metadata": {},
     "output_type": "execute_result"
    }
   ],
   "source": [
    "final_train_rdd2.take(4)"
   ]
  },
  {
   "cell_type": "code",
   "execution_count": 14,
   "metadata": {},
   "outputs": [
    {
     "data": {
      "text/plain": [
       "[(u'user_id', u'business_id', u'rating'),\n",
       " (u'-3gIDSqZ04FROn3du4CK2A', u'-xIrVu_7prj_0GDl1tds1w', u'5'),\n",
       " (u'-3gIDSqZ04FROn3du4CK2A', u'Bjn-GQg6hoUOkew7tTPcLA', u'5')]"
      ]
     },
     "execution_count": 14,
     "metadata": {},
     "output_type": "execute_result"
    }
   ],
   "source": [
    "test_rdd.take(3)"
   ]
  },
  {
   "cell_type": "code",
   "execution_count": 15,
   "metadata": {},
   "outputs": [
    {
     "data": {
      "text/plain": [
       "[(41514, 2653, u'rating'), (56804, 3163, u'5')]"
      ]
     },
     "execution_count": 15,
     "metadata": {},
     "output_type": "execute_result"
    }
   ],
   "source": [
    "final_test_df = test_rdd.map(lambda x:((all_userId_dict[x[0]], all_busId_dict[x[1]], x[2])))#.toDF([\"user_id,business_id,rating\"])\n",
    "final_test_df.take(2)\n",
    "\n"
   ]
  },
  {
   "cell_type": "code",
   "execution_count": 16,
   "metadata": {},
   "outputs": [],
   "source": [
    "final_test_df = final_test_df.toDF([\"user_id\",\"business_id\",\"rating\"])"
   ]
  },
  {
   "cell_type": "code",
   "execution_count": 17,
   "metadata": {},
   "outputs": [
    {
     "name": "stdout",
     "output_type": "stream",
     "text": [
      "+-------+-----------+------+\n",
      "|user_id|business_id|rating|\n",
      "+-------+-----------+------+\n",
      "|  41514|       2653|rating|\n",
      "|  56804|       3163|     5|\n",
      "|  56804|       2903|     5|\n",
      "|  56804|       1992|     4|\n",
      "+-------+-----------+------+\n",
      "only showing top 4 rows\n",
      "\n"
     ]
    }
   ],
   "source": [
    "final_test_df.show(4)"
   ]
  },
  {
   "cell_type": "code",
   "execution_count": 18,
   "metadata": {},
   "outputs": [],
   "source": [
    "final_test_pd_df = final_test_df.toPandas()"
   ]
  },
  {
   "cell_type": "code",
   "execution_count": 19,
   "metadata": {},
   "outputs": [],
   "source": [
    "X_test = final_test_pd_df.iloc[:,:-1].values\n",
    "Y_test = final_test_pd_df.iloc[:,2].values\n",
    "\n"
   ]
  },
  {
   "cell_type": "code",
   "execution_count": 20,
   "metadata": {},
   "outputs": [],
   "source": [
    "final_train_df = final_train_rdd2.toDF([\"user_id\",\"business_id\",\"rating\"])"
   ]
  },
  {
   "cell_type": "code",
   "execution_count": 21,
   "metadata": {},
   "outputs": [
    {
     "name": "stdout",
     "output_type": "stream",
     "text": [
      "+-------+-----------+------+\n",
      "|user_id|business_id|rating|\n",
      "+-------+-----------+------+\n",
      "|  76795|       1646|     5|\n",
      "|  81588|       1035|     5|\n",
      "|  15969|       2606|     5|\n",
      "|  56804|       1583|     4|\n",
      "|  56804|       2207|     5|\n",
      "+-------+-----------+------+\n",
      "only showing top 5 rows\n",
      "\n"
     ]
    }
   ],
   "source": [
    "final_train_df.show(5)"
   ]
  },
  {
   "cell_type": "code",
   "execution_count": 22,
   "metadata": {},
   "outputs": [],
   "source": [
    "final_train_pd_df = final_train_df.toPandas()"
   ]
  },
  {
   "cell_type": "code",
   "execution_count": 23,
   "metadata": {},
   "outputs": [],
   "source": [
    "X_train = final_train_pd_df.iloc[:,:-1].values"
   ]
  },
  {
   "cell_type": "code",
   "execution_count": 24,
   "metadata": {},
   "outputs": [],
   "source": [
    "Y_train = final_train_pd_df.iloc[:,2].values"
   ]
  },
  {
   "cell_type": "code",
   "execution_count": 25,
   "metadata": {},
   "outputs": [
    {
     "name": "stderr",
     "output_type": "stream",
     "text": [
      "/usr/local/lib/python2.7/dist-packages/sklearn/utils/validation.py:590: DataConversionWarning: Data with input dtype int64 was converted to float64 by StandardScaler.\n",
      "  warnings.warn(msg, DataConversionWarning)\n"
     ]
    }
   ],
   "source": [
    "\n",
    "scaler = StandardScaler()  \n",
    "scaler.fit(X_train)\n",
    "\n",
    "X_train = scaler.transform(X_train)  \n",
    "X_test = scaler.transform(X_test)"
   ]
  },
  {
   "cell_type": "code",
   "execution_count": 26,
   "metadata": {},
   "outputs": [
    {
     "data": {
      "text/plain": [
       "KNeighborsClassifier(algorithm='auto', leaf_size=30, metric='minkowski',\n",
       "           metric_params=None, n_jobs=None, n_neighbors=10, p=2,\n",
       "           weights='uniform')"
      ]
     },
     "execution_count": 26,
     "metadata": {},
     "output_type": "execute_result"
    }
   ],
   "source": [
    "from sklearn.neighbors import KNeighborsClassifier  \n",
    "classifier = KNeighborsClassifier(n_neighbors=10)  \n",
    "classifier.fit(X_train, Y_train)  "
   ]
  },
  {
   "cell_type": "code",
   "execution_count": 27,
   "metadata": {},
   "outputs": [],
   "source": [
    "Y_pred_test = classifier.predict(X_test)  "
   ]
  },
  {
   "cell_type": "code",
   "execution_count": 28,
   "metadata": {},
   "outputs": [
    {
     "data": {
      "text/plain": [
       "array([u'5', u'5', u'5', ..., u'5', u'5', u'4'], dtype=object)"
      ]
     },
     "execution_count": 28,
     "metadata": {},
     "output_type": "execute_result"
    }
   ],
   "source": [
    "Y_pred_test"
   ]
  },
  {
   "cell_type": "code",
   "execution_count": 29,
   "metadata": {},
   "outputs": [],
   "source": [
    "from sklearn.metrics import classification_report, confusion_matrix  "
   ]
  },
  {
   "cell_type": "code",
   "execution_count": 31,
   "metadata": {},
   "outputs": [
    {
     "name": "stdout",
     "output_type": "stream",
     "text": [
      "[[  650   119   142   744  3711     0]\n",
      " [  276    70    88   413  1958     0]\n",
      " [  334    81   107   532  2479     0]\n",
      " [  644   156   226  1081  5220     0]\n",
      " [ 1528   306   446  2296 12481     0]\n",
      " [    0     0     0     0     1     0]]\n"
     ]
    }
   ],
   "source": [
    "print(confusion_matrix(Y_test, Y_pred_test))"
   ]
  },
  {
   "cell_type": "code",
   "execution_count": 32,
   "metadata": {},
   "outputs": [
    {
     "name": "stderr",
     "output_type": "stream",
     "text": [
      "/usr/local/lib/python2.7/dist-packages/sklearn/metrics/classification.py:1143: UndefinedMetricWarning: Precision and F-score are ill-defined and being set to 0.0 in labels with no predicted samples.\n",
      "  'precision', 'predicted', average, warn_for)\n"
     ]
    },
    {
     "name": "stdout",
     "output_type": "stream",
     "text": [
      "              precision    recall  f1-score   support\n",
      "\n",
      "           1       0.19      0.12      0.15      5366\n",
      "           2       0.10      0.02      0.04      2805\n",
      "           3       0.11      0.03      0.05      3533\n",
      "           4       0.21      0.15      0.17      7327\n",
      "           5       0.48      0.73      0.58     17057\n",
      "      rating       0.00      0.00      0.00         1\n",
      "\n",
      "   micro avg       0.40      0.40      0.40     36089\n",
      "   macro avg       0.18      0.18      0.17     36089\n",
      "weighted avg       0.32      0.40      0.34     36089\n",
      "\n"
     ]
    }
   ],
   "source": [
    "print(classification_report(Y_test, Y_pred_test)) "
   ]
  }
 ],
 "metadata": {
  "kernelspec": {
   "display_name": "Python 2",
   "language": "python",
   "name": "python2"
  },
  "language_info": {
   "codemirror_mode": {
    "name": "ipython",
    "version": 2
   },
   "file_extension": ".py",
   "mimetype": "text/x-python",
   "name": "python",
   "nbconvert_exporter": "python",
   "pygments_lexer": "ipython2",
   "version": "2.7.12"
  }
 },
 "nbformat": 4,
 "nbformat_minor": 2
}
