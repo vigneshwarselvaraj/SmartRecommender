{
 "cells": [
  {
   "cell_type": "code",
   "execution_count": 1,
   "metadata": {},
   "outputs": [],
   "source": [
    "import findspark\n",
    "findspark.init()\n",
    "import pyspark\n",
    "import random\n",
    "from pyspark.sql import SparkSession, SQLContext\n",
    "from pyspark.sql.functions import col\n",
    "import pyspark.sql.functions\n",
    "from pyspark.sql.functions import sum\n",
    "from pyspark.sql.functions import countDistinct"
   ]
  },
  {
   "cell_type": "code",
   "execution_count": 2,
   "metadata": {},
   "outputs": [],
   "source": [
    "spark = SparkSession.builder.master(\"local\").appName(\"Yelp\").getOrCreate()"
   ]
  },
  {
   "cell_type": "code",
   "execution_count": 3,
   "metadata": {},
   "outputs": [],
   "source": [
    "sqlContext = SQLContext(spark)"
   ]
  },
  {
   "cell_type": "code",
   "execution_count": 4,
   "metadata": {},
   "outputs": [],
   "source": [
    "business_df = sqlContext.read.json(\"yelp_academic_dataset_business.json\")\n",
    "checkin_df = sqlContext.read.json(\"yelp_academic_dataset_checkin.json\")\n",
    "review_df = sqlContext.read.json(\"yelp_academic_dataset_review.json\")\n",
    "tip_df = sqlContext.read.json(\"yelp_academic_dataset_tip.json\")\n",
    "user_df = sqlContext.read.json(\"yelp_academic_dataset_user.json\")\n",
    "photo_df = sqlContext.read.json(\"yelp_academic_dataset_photo.json\")"
   ]
  },
  {
   "cell_type": "code",
   "execution_count": 9,
   "metadata": {},
   "outputs": [
    {
     "name": "stdout",
     "output_type": "stream",
     "text": [
      "+----------------------+----------------------+----------+-----+\n",
      "|business_id           |user_id               |date      |stars|\n",
      "+----------------------+----------------------+----------+-----+\n",
      "|OR6iRk0vrMzE-1gLg-WYrw|YHWsLBS8jzZiPjKHMFOaAA|2010-11-22|2    |\n",
      "|OR6iRk0vrMzE-1gLg-WYrw|EP_OQMoa4ZCSg-a7xNgrnA|2010-04-21|1    |\n",
      "|OR6iRk0vrMzE-1gLg-WYrw|_YaW-qttstP5vlqsyaoMTw|2014-10-26|1    |\n",
      "|OR6iRk0vrMzE-1gLg-WYrw|R7dm_9m_OrlMOZpfU2Dk9A|2013-05-22|2    |\n",
      "|OR6iRk0vrMzE-1gLg-WYrw|pXwn9pMfDiuawK8airWsDA|2016-06-23|1    |\n",
      "|OR6iRk0vrMzE-1gLg-WYrw|mmfZoI0npVJRDCnyVUE5tw|2017-03-18|4    |\n",
      "|OR6iRk0vrMzE-1gLg-WYrw|zT9WFNJXeQZBA-WJMsV4Zw|2008-10-11|3    |\n",
      "|OR6iRk0vrMzE-1gLg-WYrw|on4PBkuSAUi8gqlJHSyefA|2010-06-26|1    |\n",
      "|OR6iRk0vrMzE-1gLg-WYrw|ZLY1CRMw8dWHWFm5VcRsXA|2010-06-04|1    |\n",
      "|OR6iRk0vrMzE-1gLg-WYrw|SeLpdjMIdZz5KWOm1Q6Fag|2015-03-05|5    |\n",
      "+----------------------+----------------------+----------+-----+\n",
      "only showing top 10 rows\n",
      "\n"
     ]
    }
   ],
   "source": [
    "review_df.select(\"business_id\",\"user_id\",\"date\",\"stars\").filter(col('business_id').isin(['OR6iRk0vrMzE-1gLg-WYrw'])).show(10,False)"
   ]
  },
  {
   "cell_type": "code",
   "execution_count": 5,
   "metadata": {},
   "outputs": [
    {
     "name": "stdout",
     "output_type": "stream",
     "text": [
      "+----------------------+----------------------+-----+\n",
      "|business_id           |user_id               |stars|\n",
      "+----------------------+----------------------+-----+\n",
      "|OR6iRk0vrMzE-1gLg-WYrw|YHWsLBS8jzZiPjKHMFOaAA|2    |\n",
      "+----------------------+----------------------+-----+\n",
      "\n"
     ]
    }
   ],
   "source": [
    "review_df.select(\"business_id\",\"user_id\",\"stars\").filter(col('user_id').isin(['YHWsLBS8jzZiPjKHMFOaAA']))\\\n",
    ".filter(col('business_id').isin(['OR6iRk0vrMzE-1gLg-WYrw']))\\\n",
    ".show(10,False)"
   ]
  },
  {
   "cell_type": "code",
   "execution_count": 6,
   "metadata": {},
   "outputs": [
    {
     "name": "stdout",
     "output_type": "stream",
     "text": [
      "+----------------------+-----+------------------------------------------------------------+\n",
      "|business_id           |city |categories                                                  |\n",
      "+----------------------+-----+------------------------------------------------------------+\n",
      "|XEGzpaKszjDXqSJtLYwKsg|Tempe|Beauty & Spas, Nail Salons                                  |\n",
      "|od5dCR8QPU67t8Ku6CBezw|Tempe|Financial Services, Banks & Credit Unions                   |\n",
      "|6nWyU5V3yINOq_DNWbpRDg|Tempe|Auto Parts & Supplies, Automotive                           |\n",
      "|CcTvk2-unBwmAZmU3PlKww|Tempe|Restaurants, Delis, Sandwiches                              |\n",
      "|WmY_00qgoiHDQydppWeJlQ|Tempe|Dentists, General Dentistry, Periodontists, Health & Medical|\n",
      "+----------------------+-----+------------------------------------------------------------+\n",
      "only showing top 5 rows\n",
      "\n"
     ]
    }
   ],
   "source": [
    "business_df.select(\"business_id\",\"city\",\"categories\").filter(\"city == 'Tempe'\").show(5,False)"
   ]
  },
  {
   "cell_type": "code",
   "execution_count": 10,
   "metadata": {},
   "outputs": [],
   "source": [
    "business_df2 = business_df.withColumn(\"review_count\", business_df[\"review_count\"].cast(\"double\"))"
   ]
  },
  {
   "cell_type": "code",
   "execution_count": 11,
   "metadata": {},
   "outputs": [
    {
     "name": "stdout",
     "output_type": "stream",
     "text": [
      "+-----------------+\n",
      "|sum(review_count)|\n",
      "+-----------------+\n",
      "|         182638.0|\n",
      "+-----------------+\n",
      "\n"
     ]
    }
   ],
   "source": [
    "business_df2.filter(col('city').isin(['Tempe'])).agg(sum(\"review_count\")).show()"
   ]
  },
  {
   "cell_type": "code",
   "execution_count": 12,
   "metadata": {},
   "outputs": [],
   "source": [
    "business_review_count = business_df2.filter(col('city').isin(['Tempe'])).groupBy(\"business_id\").\\\n",
    "agg(sum(\"review_count\").alias(\"rev_count\")).\\\n",
    "sort(col(\"rev_count\").desc())"
   ]
  },
  {
   "cell_type": "code",
   "execution_count": 7,
   "metadata": {},
   "outputs": [
    {
     "name": "stdout",
     "output_type": "stream",
     "text": [
      "+--------------------+---------+\n",
      "|         business_id|rev_count|\n",
      "+--------------------+---------+\n",
      "|JzOp695tclcNCNMuB...|   2097.0|\n",
      "|wl0QZqAzr1DelslQ0...|   1585.0|\n",
      "|aiX_WP7NKPTdF9CfI...|   1291.0|\n",
      "|5FIOXmUE3qMviX9Ga...|   1146.0|\n",
      "|SurnOSM2bVVN4-Js3...|    963.0|\n",
      "+--------------------+---------+\n",
      "only showing top 5 rows\n",
      "\n"
     ]
    }
   ],
   "source": [
    "business_review_count.show(5)"
   ]
  },
  {
   "cell_type": "code",
   "execution_count": 13,
   "metadata": {},
   "outputs": [],
   "source": [
    "tempe_business_above5 = business_review_count.filter(\"rev_count >= 5\")"
   ]
  },
  {
   "cell_type": "code",
   "execution_count": 14,
   "metadata": {},
   "outputs": [],
   "source": [
    "tb5 = tempe_business_above5.alias('tb5')\n",
    "rdf = review_df.alias('rdf')"
   ]
  },
  {
   "cell_type": "code",
   "execution_count": 15,
   "metadata": {},
   "outputs": [],
   "source": [
    "tempe_bus_rev = rdf.join(tb5, rdf.business_id == tb5.business_id)\\\n",
    ".select('tb5.business_id','rdf.review_id','rdf.text','rdf.user_id','rdf.date','rdf.stars')"
   ]
  },
  {
   "cell_type": "code",
   "execution_count": 16,
   "metadata": {},
   "outputs": [
    {
     "data": {
      "text/plain": [
       "179404"
      ]
     },
     "execution_count": 16,
     "metadata": {},
     "output_type": "execute_result"
    }
   ],
   "source": [
    "tempe_bus_rev.count()"
   ]
  },
  {
   "cell_type": "code",
   "execution_count": 17,
   "metadata": {},
   "outputs": [
    {
     "name": "stdout",
     "output_type": "stream",
     "text": [
      "+--------------------+--------------------+--------------------+--------------------+----------+-----+\n",
      "|         business_id|           review_id|                text|             user_id|      date|stars|\n",
      "+--------------------+--------------------+--------------------+--------------------+----------+-----+\n",
      "|--9QQLMTbFzLJ_oT-...|vbDsxZPiLkIa8wWNI...|If you want a man...|zLtVHO6mfoRhx_6kZ...|2017-05-02|    5|\n",
      "|--9QQLMTbFzLJ_oT-...|Hyrf_48taT5wcDa65...|Haircut was good ...|rJQe8TlW5_NYahQgf...|2016-11-19|    1|\n",
      "|--9QQLMTbFzLJ_oT-...|D7OKYPWggteMDmvr6...|Always great cust...|NS2OQzrmJYHRXboib...|2013-08-18|    5|\n",
      "|--9QQLMTbFzLJ_oT-...|2lbpUOGHRoISbRpzE...|Don't ever believ...|l6OM4eYMHVtjA3zK9...|2016-12-01|    1|\n",
      "|--9QQLMTbFzLJ_oT-...|P_gU037tA8gWFDOkv...|I've been going t...|DdASELi5fpqRHm4ee...|2016-06-21|    5|\n",
      "+--------------------+--------------------+--------------------+--------------------+----------+-----+\n",
      "only showing top 5 rows\n",
      "\n"
     ]
    }
   ],
   "source": [
    "tempe_bus_rev.sort(col('business_id')).show(5)"
   ]
  },
  {
   "cell_type": "code",
   "execution_count": 18,
   "metadata": {},
   "outputs": [
    {
     "name": "stdout",
     "output_type": "stream",
     "text": [
      "+---------------------------+\n",
      "|count(DISTINCT business_id)|\n",
      "+---------------------------+\n",
      "|                       3523|\n",
      "+---------------------------+\n",
      "\n"
     ]
    }
   ],
   "source": [
    "tempe_bus_rev.agg(countDistinct(\"business_id\")).show()"
   ]
  },
  {
   "cell_type": "code",
   "execution_count": 27,
   "metadata": {},
   "outputs": [
    {
     "name": "stdout",
     "output_type": "stream",
     "text": [
      "+-------------------------+\n",
      "|count(DISTINCT review_id)|\n",
      "+-------------------------+\n",
      "|                   179404|\n",
      "+-------------------------+\n",
      "\n"
     ]
    }
   ],
   "source": [
    "tempe_bus_rev.agg(countDistinct(\"review_id\")).show()"
   ]
  },
  {
   "cell_type": "code",
   "execution_count": null,
   "metadata": {},
   "outputs": [],
   "source": [
    "tempe_bus_rev.select('business_id','user_id','stars').sort(col('business_id')).show(10,False)"
   ]
  },
  {
   "cell_type": "code",
   "execution_count": null,
   "metadata": {},
   "outputs": [],
   "source": []
  },
  {
   "cell_type": "code",
   "execution_count": 33,
   "metadata": {},
   "outputs": [],
   "source": [
    "testdf = tempe_bus_rev.select('').groupBy('user_id').count()\n",
    "\n",
    "testRevdf = tempe_bus_rev.groupBy('business_id').count()\n"
   ]
  },
  {
   "cell_type": "code",
   "execution_count": 37,
   "metadata": {},
   "outputs": [
    {
     "name": "stdout",
     "output_type": "stream",
     "text": [
      "+----------------------+-----+\n",
      "|business_id           |count|\n",
      "+----------------------+-----+\n",
      "|JzOp695tclcNCNMuBl7oxA|2096 |\n",
      "|wl0QZqAzr1DelslQ02JGCQ|1585 |\n",
      "|aiX_WP7NKPTdF9CfI-M-wg|1290 |\n",
      "|5FIOXmUE3qMviX9GafGH-Q|1146 |\n",
      "|SurnOSM2bVVN4-Js3G23RQ|963  |\n",
      "+----------------------+-----+\n",
      "only showing top 5 rows\n",
      "\n"
     ]
    }
   ],
   "source": [
    "testRevdf.sort(col('count').desc()).show(5,False)"
   ]
  },
  {
   "cell_type": "code",
   "execution_count": 38,
   "metadata": {},
   "outputs": [
    {
     "name": "stdout",
     "output_type": "stream",
     "text": [
      "+--------------------+-----+\n",
      "|         business_id|count|\n",
      "+--------------------+-----+\n",
      "|JzOp695tclcNCNMuB...| 2096|\n",
      "+--------------------+-----+\n",
      "\n"
     ]
    }
   ],
   "source": [
    "testRevdf.filter(col('business_id').isin(['JzOp695tclcNCNMuBl7oxA'])).show()"
   ]
  },
  {
   "cell_type": "code",
   "execution_count": 19,
   "metadata": {},
   "outputs": [],
   "source": [
    "tempe_bus_rev.registerTempTable('tempe_bus_rev_table')"
   ]
  },
  {
   "cell_type": "code",
   "execution_count": 20,
   "metadata": {},
   "outputs": [
    {
     "name": "stdout",
     "output_type": "stream",
     "text": [
      "+-----+--------+\n",
      "|stars|count(1)|\n",
      "+-----+--------+\n",
      "|    5|   84486|\n",
      "|    1|   27124|\n",
      "|    3|   17403|\n",
      "|    2|   14112|\n",
      "|    4|   36279|\n",
      "+-----+--------+\n",
      "\n"
     ]
    }
   ],
   "source": [
    "sqlContext.sql('select stars,count(*) from tempe_bus_rev_table group by stars').show()"
   ]
  },
  {
   "cell_type": "code",
   "execution_count": 42,
   "metadata": {},
   "outputs": [
    {
     "name": "stdout",
     "output_type": "stream",
     "text": [
      "+--------------------+----------------+\n",
      "|         business_id|count(review_id)|\n",
      "+--------------------+----------------+\n",
      "|5GtfNFhdP-ws1BEDW...|               5|\n",
      "|68htH_xVthYKRxvpT...|              20|\n",
      "|DEBqmgxv2yhJ93LqG...|             111|\n",
      "|DX94cQnhBJjE4I7bT...|              22|\n",
      "|E9QTQ4DOKo1UsGNmM...|              71|\n",
      "|FFe01fgrpADFJQ8WP...|              32|\n",
      "|IEOHWxBkQD2kgt4NY...|              20|\n",
      "|J6WnhToRaJ2TtLbRp...|              74|\n",
      "|Nb5RUaRghxBNH6U3u...|               6|\n",
      "|QlQ7qG7Hxk_SseGnr...|               5|\n",
      "|TIaaQKCaJaWw0Q9m6...|               7|\n",
      "|WXRaVM-k22cvq9KPO...|              11|\n",
      "|Xz26ZNV3z3x3Lb5Lz...|              27|\n",
      "|Z8emBxgaDgUf3BV2q...|              25|\n",
      "|cg0RIQpKs0GhmZ_JC...|               6|\n",
      "|i3cNlekSZoAPwcP2D...|              16|\n",
      "|jj7zJSRfS3lb49zQ9...|              52|\n",
      "|n0SMxITaU-6XrB0lO...|               8|\n",
      "|vN6cLw7KKw62vbwOV...|              25|\n",
      "|4jm-et6RMcjOkmrC_...|             132|\n",
      "+--------------------+----------------+\n",
      "only showing top 20 rows\n",
      "\n"
     ]
    }
   ],
   "source": [
    "sqlContext.sql('select business_id, count(review_id) from tempe_bus_rev_table group by business_id sort by business_id').show()"
   ]
  },
  {
   "cell_type": "code",
   "execution_count": 43,
   "metadata": {},
   "outputs": [
    {
     "name": "stdout",
     "output_type": "stream",
     "text": [
      "+--------------------+--------------+\n",
      "|         business_id|count(user_id)|\n",
      "+--------------------+--------------+\n",
      "|5GtfNFhdP-ws1BEDW...|             5|\n",
      "|68htH_xVthYKRxvpT...|            20|\n",
      "|DEBqmgxv2yhJ93LqG...|           111|\n",
      "|DX94cQnhBJjE4I7bT...|            22|\n",
      "|E9QTQ4DOKo1UsGNmM...|            71|\n",
      "|FFe01fgrpADFJQ8WP...|            32|\n",
      "|IEOHWxBkQD2kgt4NY...|            20|\n",
      "|J6WnhToRaJ2TtLbRp...|            74|\n",
      "|Nb5RUaRghxBNH6U3u...|             6|\n",
      "|QlQ7qG7Hxk_SseGnr...|             5|\n",
      "|TIaaQKCaJaWw0Q9m6...|             7|\n",
      "|WXRaVM-k22cvq9KPO...|            11|\n",
      "|Xz26ZNV3z3x3Lb5Lz...|            27|\n",
      "|Z8emBxgaDgUf3BV2q...|            25|\n",
      "|cg0RIQpKs0GhmZ_JC...|             6|\n",
      "|i3cNlekSZoAPwcP2D...|            16|\n",
      "|jj7zJSRfS3lb49zQ9...|            52|\n",
      "|n0SMxITaU-6XrB0lO...|             8|\n",
      "|vN6cLw7KKw62vbwOV...|            25|\n",
      "|4jm-et6RMcjOkmrC_...|           132|\n",
      "+--------------------+--------------+\n",
      "only showing top 20 rows\n",
      "\n"
     ]
    }
   ],
   "source": [
    "sqlContext.sql('select business_id, count(user_id) from tempe_bus_rev_table group by business_id sort by business_id').show()"
   ]
  },
  {
   "cell_type": "code",
   "execution_count": 16,
   "metadata": {},
   "outputs": [
    {
     "name": "stdout",
     "output_type": "stream",
     "text": [
      "+--------------------+--------------------+-----+\n",
      "|             user_id|         business_id|stars|\n",
      "+--------------------+--------------------+-----+\n",
      "|zzsmdXHUFBYuKUtPb...|U6P56MjLrraN0JBNv...|    5|\n",
      "|zzsmdXHUFBYuKUtPb...|iqm-ZDFRpVGYe0Ie-...|    5|\n",
      "|zzjIDvHGrYt2KK68I...|1Z4_zSITNVQ_Bt027...|    1|\n",
      "|zzczJoSY3newDXLCD...|Wnq5to0-jXyh0-_jR...|    5|\n",
      "|zz_aM1PBx68vNhVXF...|VX2aKMQ_v0x0G1r2E...|    1|\n",
      "+--------------------+--------------------+-----+\n",
      "only showing top 5 rows\n",
      "\n"
     ]
    }
   ],
   "source": [
    "fnl_tempe_bus_df = tempe_bus_rev.select('user_id','business_id','stars')\n",
    "\n",
    "fnl_tempe_bus_df.sort(col('user_id').desc()).show(5)"
   ]
  },
  {
   "cell_type": "code",
   "execution_count": 22,
   "metadata": {},
   "outputs": [],
   "source": [
    "fnl_tempe_with_date_df = tempe_bus_rev.select('business_id','date','stars','user_id')"
   ]
  },
  {
   "cell_type": "code",
   "execution_count": 23,
   "metadata": {},
   "outputs": [
    {
     "name": "stdout",
     "output_type": "stream",
     "text": [
      "+----------------------+----------+-----+----------------------+\n",
      "|business_id           |date      |stars|user_id               |\n",
      "+----------------------+----------+-----+----------------------+\n",
      "|UBv8heCQR0RPnUQG0zkXIQ|2016-09-23|1    |NhOc64RsrTT1Dls50yYW8g|\n",
      "|hdgYnadxg0GANhWOJabr2g|2014-08-23|5    |NhOc64RsrTT1Dls50yYW8g|\n",
      "|VfX7rhtX03yNg56ISz8gVQ|2016-06-08|4    |0pf5VuzE4_1pwj5NJHG5TQ|\n",
      "|TT4XW2WMG0PNyUIFBIINuA|2015-10-18|1    |wn5sc78bQn-FpuR2u0rcCQ|\n",
      "|x2NuIlQgvvl3Wtq8ipZC6Q|2015-10-23|5    |jjSR3JpsYKIgMUSR5zHRsQ|\n",
      "+----------------------+----------+-----+----------------------+\n",
      "only showing top 5 rows\n",
      "\n"
     ]
    }
   ],
   "source": [
    "fnl_tempe_with_date_df.show(5,False)"
   ]
  },
  {
   "cell_type": "code",
   "execution_count": 24,
   "metadata": {},
   "outputs": [
    {
     "name": "stdout",
     "output_type": "stream",
     "text": [
      "+--------------------+----------+-----+--------------------+\n",
      "|         business_id|      date|stars|             user_id|\n",
      "+--------------------+----------+-----+--------------------+\n",
      "|--9QQLMTbFzLJ_oT-...|2018-02-17|    5|kolI5UE92RpFiBf8Y...|\n",
      "|--9QQLMTbFzLJ_oT-...|2017-02-05|    1|mfdb2wCYv7yiu0fyz...|\n",
      "|--9QQLMTbFzLJ_oT-...|2013-08-18|    5|NS2OQzrmJYHRXboib...|\n",
      "|--9QQLMTbFzLJ_oT-...|2016-04-02|    2|ZPspeNuGDw5PYcu0m...|\n",
      "|--9QQLMTbFzLJ_oT-...|2014-06-18|    5|WP6N1I1SCOIUyuBiJ...|\n",
      "|--9QQLMTbFzLJ_oT-...|2016-11-19|    1|rJQe8TlW5_NYahQgf...|\n",
      "|--9QQLMTbFzLJ_oT-...|2016-12-01|    1|l6OM4eYMHVtjA3zK9...|\n",
      "|--9QQLMTbFzLJ_oT-...|2017-05-02|    5|zLtVHO6mfoRhx_6kZ...|\n",
      "|--9QQLMTbFzLJ_oT-...|2013-05-15|    4|5RLxzxLIY3ZXUUksr...|\n",
      "|--9QQLMTbFzLJ_oT-...|2016-06-21|    5|DdASELi5fpqRHm4ee...|\n",
      "|--9QQLMTbFzLJ_oT-...|2015-08-13|    5|US0-y2ZX4O3uJtVjf...|\n",
      "|--ab39IjZR_xUf81W...|2014-03-19|    5|jKDTqRBKpp3tjjbJH...|\n",
      "|--ab39IjZR_xUf81W...|2014-08-02|    5|QN3ddcVHz2_I2ela_...|\n",
      "|--ab39IjZR_xUf81W...|2016-04-12|    5|zqnN8SiSQqEqso_H2...|\n",
      "|--ab39IjZR_xUf81W...|2018-03-26|    3|V74paj6Zok4DvGnci...|\n",
      "|--ab39IjZR_xUf81W...|2017-11-27|    5|Asi7394lMfDcbhluS...|\n",
      "|--ab39IjZR_xUf81W...|2014-07-23|    4|ho0wyOhkom1MuUeie...|\n",
      "|--ab39IjZR_xUf81W...|2012-12-11|    4|QJI9OSEn6ujRCtrX0...|\n",
      "|--ab39IjZR_xUf81W...|2014-07-29|    5|aNlbVvzbn1uV9TBCi...|\n",
      "|--ab39IjZR_xUf81W...|2017-03-06|    4|3R_dB9VQ_D3WPJEw7...|\n",
      "+--------------------+----------+-----+--------------------+\n",
      "only showing top 20 rows\n",
      "\n"
     ]
    }
   ],
   "source": [
    "sqlContext.sql('select business_id,date,stars,user_id from tempe_bus_rev_table order by business_id').show()"
   ]
  },
  {
   "cell_type": "code",
   "execution_count": 17,
   "metadata": {},
   "outputs": [],
   "source": [
    "tempe_bus_rev_train, tempe_bus_rev_test = fnl_tempe_bus_df.randomSplit([0.8,0.2])"
   ]
  },
  {
   "cell_type": "code",
   "execution_count": 18,
   "metadata": {},
   "outputs": [
    {
     "data": {
      "text/plain": [
       "143316"
      ]
     },
     "execution_count": 18,
     "metadata": {},
     "output_type": "execute_result"
    }
   ],
   "source": [
    "tempe_bus_rev_train.count()\n",
    "\n",
    "\n"
   ]
  },
  {
   "cell_type": "code",
   "execution_count": 19,
   "metadata": {},
   "outputs": [],
   "source": [
    "tempe_bus_rev_test.coalesce(1).write.mode(\"overwrite\").csv('fnl_tempe_test.csv')"
   ]
  },
  {
   "cell_type": "code",
   "execution_count": 51,
   "metadata": {},
   "outputs": [
    {
     "data": {
      "text/plain": [
       "35823"
      ]
     },
     "execution_count": 51,
     "metadata": {},
     "output_type": "execute_result"
    }
   ],
   "source": [
    "tempe_bus_rev_test.count()"
   ]
  },
  {
   "cell_type": "code",
   "execution_count": 20,
   "metadata": {},
   "outputs": [],
   "source": [
    "tempe_bus_rev_train.coalesce(1).write.mode(\"overwrite\").csv('fnl_tempe_train.csv')"
   ]
  },
  {
   "cell_type": "code",
   "execution_count": 25,
   "metadata": {},
   "outputs": [],
   "source": [
    "fnl_tempe_with_date_df.coalesce(1).write.mode(\"overwrite\").csv('fnl_tempe_with_date.csv')"
   ]
  },
  {
   "cell_type": "code",
   "execution_count": null,
   "metadata": {},
   "outputs": [],
   "source": []
  }
 ],
 "metadata": {
  "kernelspec": {
   "display_name": "Python 2",
   "language": "python",
   "name": "python2"
  },
  "language_info": {
   "codemirror_mode": {
    "name": "ipython",
    "version": 2
   },
   "file_extension": ".py",
   "mimetype": "text/x-python",
   "name": "python",
   "nbconvert_exporter": "python",
   "pygments_lexer": "ipython2",
   "version": "2.7.12"
  }
 },
 "nbformat": 4,
 "nbformat_minor": 2
}
